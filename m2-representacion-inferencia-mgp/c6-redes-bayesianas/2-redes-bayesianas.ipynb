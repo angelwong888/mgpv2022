{
 "cells": [
  {
   "cell_type": "markdown",
   "metadata": {},
   "source": [
    "# Itroducción a Redes Bayesianas\n",
    "\n",
    "<img style=\"float: right; margin: 0px 0px 15px 15px;\" src=\"https://upload.wikimedia.org/wikipedia/commons/1/18/Bayes%27_Theorem_MMB_01.jpg\" width=\"400px\" height=\"300px\" />\n",
    "\n",
    "> Con el aprendizaje del módulo 1 en cuanto a modelos probabilísticis, estamos listos para introducir el componente gráfico y darle total sentido al nombre del curso: **Modelos gráficos probabilísticos**. Esta clase revisaremos un par de conceptos matemáticos preeliminares, y finalmente veremos los fundamentos de uno de los dos modelos probabilísticos que estudiaremos: las **Redes Bayesianas**.\n",
    "\n",
    "> **Objetivos:**\n",
    "> - Entender el concepto de factor y las operaciones que podemos desarrollar con estos elementos.\n",
    "> - Aprender qué es una red Bayesiana y cómo se factorizan distribuciones sobre ellas.\n",
    "> - Estudiar el modelo Naïve Bayes, y sus implicaciones de independencia.\n",
    "\n",
    "> **Referencias:**\n",
    "> \n",
    "> - Probabilistic Graphical Models: Principles and Techniques, By Daphne Koller and Nir Friedman. Cap. 3.\n",
    "> - Bayesian Reasoning and Machine Learning, By David Barber. Cap. 3.\n",
    "\n",
    "\n",
    "<p style=\"text-align:right;\"> Imagen recuperada de: https://upload.wikimedia.org/wikipedia/commons/1/18/Bayes%27_Theorem_MMB_01.jpg.</p>\n",
    "\n",
    "___"
   ]
  },
  {
   "cell_type": "markdown",
   "metadata": {},
   "source": [
    "# 0. Recorderis\n",
    "\n",
    "Comencemos por darle un significado al nombre **Modelos Gráficos Probabilísticos**;"
   ]
  },
  {
   "cell_type": "markdown",
   "metadata": {},
   "source": [
    "- Modelo: construimos un modelo a partir de la experiencia de un experto y de los datos para modelar la situación que estamos enfrentando. El modelo es un ente por sí solo, y contiene todo nuestro conocimiento acerca del fenómeno sobre el que estamos razonando: las variables que involucra y cómo interactúan entre ellas. Entonces separamos el modelo de los algoritmos que usamos para razonar sobre él."
   ]
  },
  {
   "cell_type": "markdown",
   "metadata": {},
   "source": [
    "- Probabilísitico: hablamos que casi todas las aplicaciones reales tenían algún tipo de incertidumbre involucrada (observación parcial, ruido de medición, incluso dudamos de que el mundo sea determinista). Por tanto, la probabildiad es un enfoque que nos permite incorporar esta incertidumbre dentro del modelo y nos da herramientas para trabajar con la incertidumbre."
   ]
  },
  {
   "cell_type": "markdown",
   "metadata": {},
   "source": [
    "- Gráfico: finalmente, discutimos que codificar una distribución conjunta es una tarea compleja. En el caso más sencillo en el que tenemos $k$ VA binarias, necesitaríamos $2^k$ parámetros para especificar completamente la distribución conjunta. Por tanto, explotamos la teoría de grafos para codificar y manipular este tipo de distribuciones de manera efectiva."
   ]
  },
  {
   "cell_type": "markdown",
   "metadata": {},
   "source": [
    "Concluimos entonces que el uso de las representaciones gráficas está justificado por:\n",
    "\n",
    "- Son una estructura de datos intuitiva y compacta para capturar las distribuciones de alta dimensionalidad.\n",
    "\n",
    "- Nos permiten razonar de forma eficiente usando algoritmos que explotan la estructura gráfica.\n",
    "\n",
    "- En ciertas ocasiones, tenemos una parametrización \"*sparse*\", lo que nos permite representar distribuciones grandes con un número pequeño de parámetros.\n",
    "\n",
    "- Podemos adquirir conocimiento de expertos.\n",
    "\n",
    "- Nos permite aprender los parámetros de manera robusta a partir de datos."
   ]
  },
  {
   "cell_type": "markdown",
   "metadata": {},
   "source": [
    "# 1. Preeliminares"
   ]
  },
  {
   "cell_type": "markdown",
   "metadata": {},
   "source": [
    "## 1.1. Ejemplo"
   ]
  },
  {
   "cell_type": "markdown",
   "metadata": {},
   "source": [
    "Consideramos el caso de un estudiante dentro de un curso. Queremos razonar acerca de \n",
    "   - la $I$(nteligencia) del estudiante,\n",
    "   - la $D$(ificultad) del curso,\n",
    "   - la $C$(alificación) del estudiante dentro del curso,\n",
    "   - el $P$(untaje) en las pruebas estatales, y\n",
    "   - una carta de $R$(ecomendación) laboral que emite el profesor del curso acerca del estudiante."
   ]
  },
  {
   "cell_type": "markdown",
   "metadata": {},
   "source": [
    "Consideramos una discretización de las anteriores variables como sigue:\n",
    "- $\\mathrm{Val}(I)=\\{i^0, i^1\\}$, donde $i^0$ representa baja inteligencia e $i^1$ representa alta inteligencia;\n",
    "- $\\mathrm{Val}(D)=\\{d^0, d^1\\}$, donde $d^0$ representa fácil y $d^1$ representa difícil;\n",
    "- $\\mathrm{Val}(C)=\\{c^0, c^1, c^2\\}$, donde $c^0$ representa calificación baja ($< 6$), $c^1$ representa calificación media ($\\geq 6$, $< 9$) y $c^2$ representa calificación alta ($\\geq 9$);\n",
    "- $\\mathrm{Val}(P)=\\{p^0, p^1\\}$, donde $p^0$ representa mal puntaje y $p^1$ representa alto puntaje;\n",
    "- $\\mathrm{Val}(R)=\\{r^0, r^1\\}$, donde $r^0$ representa una carta de recomendación débil y $r^1$ representa una carta de recomendación fuerte."
   ]
  },
  {
   "cell_type": "markdown",
   "metadata": {},
   "source": [
    "**Pregunta.** De no usar modelos gráficos probabilísticos, ¿cuántos parámetros necesitamos para especificar por completo la distribución sobre las cinco variables mencionadas?\n",
    "\n",
    "<!--\n",
    "\n",
    "*Respuesta:* Necesitaríamos $2 \\times 2 \\times 3 \\times 2 \\times 2 -1 = 48 - 1 = 47$ parámetros.\n",
    "\n",
    "-->"
   ]
  },
  {
   "cell_type": "markdown",
   "metadata": {},
   "source": [
    "Por otra parte, pensando en la **causalidad** de la situación, podríamos plantear la siguiente Red Bayesiana para modelar el ejemplo anterior:"
   ]
  },
  {
   "cell_type": "code",
   "execution_count": null,
   "metadata": {},
   "outputs": [],
   "source": [
    "from IPython.display import Image"
   ]
  },
  {
   "cell_type": "code",
   "execution_count": null,
   "metadata": {},
   "outputs": [],
   "source": [
    "Image(filename='figures/Student.png')"
   ]
  },
  {
   "cell_type": "markdown",
   "metadata": {},
   "source": [
    "Al final de esta clase, entenderemos cómo codificar la distribución de las variables sobre esta red, y apartir de ello, porqué este modelo necesita muchos menos parámetros que el modelo genérico (distribución conjunta)."
   ]
  },
  {
   "cell_type": "markdown",
   "metadata": {},
   "source": [
    "## 1.2. Distribuciones de probabilidad y sus operaciones"
   ]
  },
  {
   "cell_type": "markdown",
   "metadata": {},
   "source": [
    "Consideremos el ejemplo del estudiante, esta vez reducido a las variables $I$, $D$ y $C$.\n",
    "\n",
    "Una distribución conjunta, $P(I,D,C)$, sobre estas tres variables es:\n",
    "\n",
    "|  $I$  |  $D$  |  $C$  |  $P$  |\n",
    "| ----- | ----- | ----- | ----- |\n",
    "| $i^0$ | $d^0$ | $c^0$ | 0.126 |\n",
    "| $i^0$ | $d^0$ | $c^1$ | 0.168 |\n",
    "| $i^0$ | $d^0$ | $c^2$ | 0.126 |\n",
    "| $i^0$ | $d^1$ | $c^0$ | 0.126 |\n",
    "| $i^0$ | $d^1$ | $c^1$ | 0.045 |\n",
    "| $i^0$ | $d^1$ | $c^2$ | 0.009 |\n",
    "| $i^1$ | $d^0$ | $c^0$ | 0.0056|\n",
    "| $i^1$ | $d^0$ | $c^1$ | 0.0224|\n",
    "| $i^1$ | $d^0$ | $c^2$ | 0.252 |\n",
    "| $i^1$ | $d^1$ | $c^0$ | 0.024 |\n",
    "| $i^1$ | $d^1$ | $c^1$ | 0.036 |\n",
    "| $i^1$ | $d^1$ | $c^2$ | 0.06  |\n",
    "\n",
    "**Pregunta.** ¿Cuántos parámetros en total?\n",
    "\n",
    "<!--\n",
    "\n",
    "*Respuesta:* $2 \\times 2 \\times 3 = 12$\n",
    "\n",
    "-->"
   ]
  },
  {
   "cell_type": "code",
   "execution_count": null,
   "metadata": {},
   "outputs": [],
   "source": [
    "# Importamos pgmpy.factors.discrete.JointProbabilityDistribution\n"
   ]
  },
  {
   "cell_type": "code",
   "execution_count": null,
   "metadata": {},
   "outputs": [],
   "source": [
    "# help JointProbabilityDistribution\n"
   ]
  },
  {
   "cell_type": "code",
   "execution_count": null,
   "metadata": {},
   "outputs": [],
   "source": [
    "# Crear la distribución conjunta\n"
   ]
  },
  {
   "cell_type": "code",
   "execution_count": null,
   "metadata": {},
   "outputs": [],
   "source": []
  },
  {
   "cell_type": "code",
   "execution_count": null,
   "metadata": {},
   "outputs": [],
   "source": [
    "# Verificar que la distribución es válida\n"
   ]
  },
  {
   "cell_type": "markdown",
   "metadata": {},
   "source": [
    "Entonces, tenemos que para cualquier distribución sobre un conjunto de variables $\\bar{X}$:\n",
    "\n",
    "$$\\sum_{\\bar{x}\\in\\mathrm{Val}(\\bar{X})} P(\\bar{X}=\\bar{x}) = 1.$$\n",
    "\n",
    "> **Independencia de parámetros:** son parámetros independientes aquellos cuyo valor no está completamente determinado por el valor de otros parámetros.\n",
    "\n",
    "En este caso, la distribución se determina con 12 parámetros. Sin embargo, la suma de todos ellos debe ser uno (1). Por tanto, *sólo hay 11 parámetros independientes*."
   ]
  },
  {
   "cell_type": "markdown",
   "metadata": {},
   "source": [
    "### ¿Qué operaciones podemos llevar a cabo sobre una distribucción?"
   ]
  },
  {
   "cell_type": "markdown",
   "metadata": {},
   "source": [
    "**1. Reducción**\n",
    "\n",
    "Supongamos que observamos que la calificación final del estudiante es alta, esto es, $C=c^2$. La operación de *reducción* consiste en eliminar todas las filas que no son consistentes con la observación:"
   ]
  },
  {
   "cell_type": "code",
   "execution_count": null,
   "metadata": {
    "scrolled": true
   },
   "outputs": [],
   "source": [
    "# help método reduce\n"
   ]
  },
  {
   "cell_type": "code",
   "execution_count": null,
   "metadata": {},
   "outputs": [],
   "source": [
    "# Operación de reducción C=c2\n"
   ]
  },
  {
   "cell_type": "code",
   "execution_count": null,
   "metadata": {},
   "outputs": [],
   "source": []
  },
  {
   "cell_type": "code",
   "execution_count": null,
   "metadata": {},
   "outputs": [],
   "source": []
  },
  {
   "cell_type": "code",
   "execution_count": null,
   "metadata": {},
   "outputs": [],
   "source": []
  },
  {
   "cell_type": "markdown",
   "metadata": {},
   "source": [
    "Matemáticamente, esta operación equivale a considerar la distribución evaluada $P(I, D, C=c^2) = P(I, D, c^2)$.\n",
    "\n",
    "**Pregunta**. ¿Es este resultado una distribución de probabilidad sobre las variables $I,D$?\n",
    "\n",
    "<!--\n",
    "\n",
    "*Respuesta:* No.\n",
    "\n",
    "-->"
   ]
  },
  {
   "cell_type": "markdown",
   "metadata": {},
   "source": [
    "**2. Condición**\n",
    "\n",
    "A partir de la operación de reducción, si queremos obtener una distribución legítima sobre las variables que no reducimos, debemos dividir sobre la suma:"
   ]
  },
  {
   "cell_type": "code",
   "execution_count": null,
   "metadata": {},
   "outputs": [],
   "source": [
    "# help método conditional_distribution\n"
   ]
  },
  {
   "cell_type": "code",
   "execution_count": null,
   "metadata": {},
   "outputs": [],
   "source": [
    "# Operación de condición sobre C=c2\n"
   ]
  },
  {
   "cell_type": "code",
   "execution_count": null,
   "metadata": {},
   "outputs": [],
   "source": []
  },
  {
   "cell_type": "code",
   "execution_count": null,
   "metadata": {},
   "outputs": [],
   "source": []
  },
  {
   "cell_type": "code",
   "execution_count": null,
   "metadata": {},
   "outputs": [],
   "source": []
  },
  {
   "cell_type": "code",
   "execution_count": null,
   "metadata": {},
   "outputs": [],
   "source": []
  },
  {
   "cell_type": "markdown",
   "metadata": {},
   "source": [
    "Matemáticamente, esta operación equivale a considerar la distribución condicionada $P(I, D| C=c^2) = P(I, D| c^2)$.\n",
    "\n",
    "**Pregunta**. ¿Es este resultado una distribución de probabilidad sobre las variables $I,D$?\n",
    "\n",
    "*Respuesta:* Si."
   ]
  },
  {
   "cell_type": "markdown",
   "metadata": {},
   "source": [
    "**3. Marginalización**\n",
    "\n",
    "Cuando tenemos una distribución de probabilidad sobre un conjunto de variables, y producimos una sobre un subconjunto de las variables originales. Por ejemplo, queremos la distribución marginal sobre $I, D$:"
   ]
  },
  {
   "cell_type": "code",
   "execution_count": null,
   "metadata": {},
   "outputs": [],
   "source": [
    "# Imprimir distribución inicial\n"
   ]
  },
  {
   "cell_type": "code",
   "execution_count": null,
   "metadata": {},
   "outputs": [],
   "source": [
    "# help método marginalize\n"
   ]
  },
  {
   "cell_type": "code",
   "execution_count": null,
   "metadata": {},
   "outputs": [],
   "source": [
    "# Marginalizar C\n"
   ]
  },
  {
   "cell_type": "code",
   "execution_count": null,
   "metadata": {},
   "outputs": [],
   "source": []
  },
  {
   "cell_type": "markdown",
   "metadata": {},
   "source": [
    "Y si queremos la marginal sobre $I$ nada más:"
   ]
  },
  {
   "cell_type": "code",
   "execution_count": null,
   "metadata": {},
   "outputs": [],
   "source": [
    "# Marginalizar C y D\n"
   ]
  },
  {
   "cell_type": "code",
   "execution_count": null,
   "metadata": {},
   "outputs": [],
   "source": []
  },
  {
   "cell_type": "markdown",
   "metadata": {},
   "source": [
    "Matemáticamente, las anteriores operaciones equivalen a:\n",
    "\n",
    "$$P(I, D) = \\sum_{c\\in\\mathrm{Val}(C)} P(I, D, C=c), \\text{ y }$$\n",
    "\n",
    "$$P(I) = \\sum_{(c,d)\\in\\mathrm{Val}(C,D)} P(I, D=d, C=c).$$\n",
    "\n",
    "En abuso de la notación, para no hacer engorrosa la escritura, las anteriores sumas se expresan comúnmente como:\n",
    "\n",
    "$$P(I, D) = \\sum_{C} P(I, D, C), \\text{ y }$$\n",
    "\n",
    "$$P(I) = \\sum_{C,D} P(I, D, C).$$"
   ]
  },
  {
   "cell_type": "markdown",
   "metadata": {},
   "source": [
    "___\n",
    "# 2. Fundamentos de Redes Bayesianas"
   ]
  },
  {
   "cell_type": "markdown",
   "metadata": {},
   "source": [
    "## 2.1. Modelando independencias.\n",
    "\n",
    "Consideremos, de nuevo, el ejemplo del estudiante <font color=green> Ver en el tablero y discutir modelamiento a partir de las variables </font>\n",
    "\n",
    "Ahora, con las distribuciones condiconales:"
   ]
  },
  {
   "cell_type": "code",
   "execution_count": null,
   "metadata": {},
   "outputs": [],
   "source": [
    "Image(filename='figures/Student1.png')"
   ]
  },
  {
   "cell_type": "markdown",
   "metadata": {},
   "source": [
    "- Como vimos antes, este modelo se produjo pensando en las dependencias de las VA.\n",
    "\n",
    "- Se modela cada nodo con una distribución condicional."
   ]
  },
  {
   "cell_type": "markdown",
   "metadata": {},
   "source": [
    "Cuando todas las distribuciones condicionales están especificadas, tenemos una red Bayesiana completamente parametrizada, capaz de producir una distribución conjunta sobre todas las VA.\n",
    "\n",
    "¿Cómo? Regla de la cadena + independencia. <font color=green> Ver en el tablero </font> <font color=red> Descubrir deducción </font>\n",
    "<!--\n",
    "\\begin{align}\n",
    "P(I, D, C, P, R) & = P(I, D, C, P) P(R | I, D, C, P) \\\\\n",
    "                 & = P(I, D, C) P(P | I, D, C) P(R | C) \\\\\n",
    "                 & = P(I, D) P(C | I, D) P(P | I) P(R | C) \\\\\n",
    "                 & = P(I) P(D | I) P(C | I, D) P(P | I) P(R | C) \\\\\n",
    "                 & = P(I) P(D) P(C | I, D) P(P | I) P(R | C) \\\\\n",
    "\\end{align}\n",
    "-->\n",
    "\n",
    "Por ejemplo,\n",
    "\n",
    "$$P(i^1, d^0, c^0, p^1, r^1)=P(i^1) P(d^0) P(c^0 | i^1, d^0) P(p^1 | i^1) P(r^1 | c^0) = 0.3 \\times 0.6 \\times 0.02 \\times 0.8 \\times 0.01 $$"
   ]
  },
  {
   "cell_type": "markdown",
   "metadata": {},
   "source": [
    "Una forma muy conveniente de definir modelos probabilísticos es a través de las llamadas **Redes Bayesianas**.\n",
    "\n",
    "> *Definición.* Una **Red Bayesiana** es un grafo (acíclico) dirigido $\\mathcal{G}$ donde los nodos representan variables aleatorias (anotados por una distribución condicional de la forma $P(X_i | \\mathrm{Pa}_{\\mathcal{G}}X_i)$) y los arcos representan impacto directo de una variable sobre otra, y cuya distribución está dada por:\n",
    "> \n",
    "> $$P(X_1, \\dots, X_n) = \\prod_{i=1}^{n} P(X_i | \\mathrm{Pa}_{\\mathcal{G}}X_i),$$\n",
    ">\n",
    "> donde $\\mathrm{Pa}_{\\mathcal{G}}X_i$ los nodos padres de $X_i$ en $\\mathcal{G}$, y $\\mathrm{NoDescendientes}_{\\mathcal{G}}X_i$. Entonces, la red Bayesiana $\\mathcal{G}$ codifica el siguiente conjunto de **independencias locales**\n",
    ">\n",
    "> $$\\mathcal{I}_{l}(\\mathcal{G}) = \\{(X_i \\perp \\mathrm{NoDescendientes}_{\\mathcal{G}}X_i | \\mathrm{Pa}_{\\mathcal{G}}X_i)\\}.$$"
   ]
  },
  {
   "cell_type": "markdown",
   "metadata": {},
   "source": [
    "**Actividad.**\n",
    "\n",
    "1. Obtener las independencias locales que codifica la red Bayesiana del estudiante.\n",
    "\n",
    "2. Comparar el número de parámetros independientes que necesita la red Bayesiana del estudiante contra el número de parámetros que necesitaría la distribución conjunta sin ninguna suposición de independencia."
   ]
  },
  {
   "cell_type": "markdown",
   "metadata": {},
   "source": [
    "**¿Cómo declarar una red Bayesiana en pgmpy?**"
   ]
  },
  {
   "cell_type": "code",
   "execution_count": null,
   "metadata": {},
   "outputs": [],
   "source": [
    "# Importamos pgmpy.models.BayesianModel\n",
    "\n",
    "# Importamos pgmpy.factors.discrete.TabularCPD\n"
   ]
  },
  {
   "cell_type": "code",
   "execution_count": null,
   "metadata": {},
   "outputs": [],
   "source": []
  },
  {
   "cell_type": "code",
   "execution_count": null,
   "metadata": {},
   "outputs": [],
   "source": [
    "# Definimos el esqueleto de la red mediante los arcos\n"
   ]
  },
  {
   "cell_type": "code",
   "execution_count": null,
   "metadata": {},
   "outputs": [],
   "source": [
    "# Definimos distribución condicional de D\n",
    "\n",
    "# Definimos distribución condicional de I\n"
   ]
  },
  {
   "cell_type": "code",
   "execution_count": null,
   "metadata": {},
   "outputs": [],
   "source": []
  },
  {
   "cell_type": "markdown",
   "metadata": {},
   "source": [
    "La representación de las distribuciones condicionales en `pgmpy` es un poquito distinto a como está en el dibujo de arriba. En `pgmpy` las columnas representan evidencia, y las filas los distintos estados de la variable en la distribución condicional:\n",
    "\n",
    "|         | $i^0 d^0$ | $i^0 d^1$ | $i^1 d^0$ | $i^1 d^1$ |\n",
    "| ------- | --------- | --------- | --------- | --------- |\n",
    "| $c^0$   | 0.3       | 0.7       | 0.02      | 0.2       |\n",
    "| $c^1$   | 0.4       | 0.25      | 0.08      | 0.3       |\n",
    "| $c^2$   | 0.3       | 0.05      | 0.9       | 0.5       |"
   ]
  },
  {
   "cell_type": "code",
   "execution_count": null,
   "metadata": {},
   "outputs": [],
   "source": [
    "# Definimos distribución condicional de C\n",
    "\n",
    "# Definimos distribución condicional de P\n",
    "\n",
    "# Definimos distribución condicional de R\n"
   ]
  },
  {
   "cell_type": "code",
   "execution_count": null,
   "metadata": {},
   "outputs": [],
   "source": [
    "# Asociamos las distribuciones condicionales a la red\n"
   ]
  },
  {
   "cell_type": "code",
   "execution_count": null,
   "metadata": {},
   "outputs": [],
   "source": [
    "# Check the model for various errors. This method checks for the following errors:  \n",
    "# * Checks if the sum of the probabilities for each state is equal to 1 (tol=0.01).\n",
    "# * Checks if the CPDs associated with nodes are consistent with their parents.\n"
   ]
  },
  {
   "cell_type": "markdown",
   "metadata": {},
   "source": [
    "Una vez tenemos el modelo, podemos hacer varias cosas con él. Entre ellas, podemos verificar las independencias locales que codifica el modelo:"
   ]
  },
  {
   "cell_type": "code",
   "execution_count": null,
   "metadata": {},
   "outputs": [],
   "source": [
    "# Verificar las independencias locales que implica el modelo\n"
   ]
  },
  {
   "cell_type": "code",
   "execution_count": null,
   "metadata": {},
   "outputs": [],
   "source": []
  },
  {
   "cell_type": "code",
   "execution_count": null,
   "metadata": {},
   "outputs": [],
   "source": []
  },
  {
   "cell_type": "markdown",
   "metadata": {},
   "source": [
    "## 2.2. Patrones de razonamiento e inferencia\n",
    "\n",
    "Teniendo una situación modelada con una red Bayesiana, nos podemos plantear tres tipos básicos de razonamientos que poríamos querer resolver:"
   ]
  },
  {
   "cell_type": "markdown",
   "metadata": {},
   "source": [
    "**1. Razonamiento causal**"
   ]
  },
  {
   "cell_type": "markdown",
   "metadata": {},
   "source": [
    "Se refiere a cuando tenemos evidencia de causas y queremos razonar acerca de efectos"
   ]
  },
  {
   "cell_type": "code",
   "execution_count": null,
   "metadata": {},
   "outputs": [],
   "source": [
    "Image(filename='figures/Student2.png')"
   ]
  },
  {
   "cell_type": "markdown",
   "metadata": {},
   "source": [
    "Por ejemplo, la probabilidad de obtener una buena carta de recomendación es:\n",
    "\n",
    "$$P(r^1) = \\sum_{D,I,C,P} P(D,I,C,P,r^1) \\approx 0.5.$$\n",
    "\n",
    "Sin embargo, podemos evaluar cómo esta probabilidad cambia si la condicionamos sobre la inteligencia. Por ejemplo, si el estudiante no es muy inteligente\n",
    "\n",
    "$$P(r^1 | i^0) = \\frac{P(r^1, i^0)}{P(i^0)} = \\frac{\\sum_{D,C,P} P(D, i^0, C, P, r^1)}{\\sum_{D,C,P,R} P(D, i^0, C, P, R)} \\approx 0.39.$$\n",
    "\n",
    "*¿Se esperaba esto o no?*"
   ]
  },
  {
   "cell_type": "markdown",
   "metadata": {},
   "source": [
    "Por otra parte, si también condicionamos sobre la dificultad\n",
    "\n",
    "$$P(r^1 | i^0, d^0) = \\frac{P(r^1, i^0, d^0)}{P(i^0, d^0)} = \\frac{\\sum_{C,P} P(d^0, i^0, C, P, r^1)}{\\sum_{C,P,R} P(d^0, i^0, C, P, R)} \\approx 0.51.$$\n",
    "\n",
    "*¿Se esperaba esto o no?*"
   ]
  },
  {
   "cell_type": "code",
   "execution_count": null,
   "metadata": {},
   "outputs": [],
   "source": [
    "# Verificar con pgmpy\n"
   ]
  },
  {
   "cell_type": "code",
   "execution_count": null,
   "metadata": {},
   "outputs": [],
   "source": []
  },
  {
   "cell_type": "code",
   "execution_count": null,
   "metadata": {},
   "outputs": [],
   "source": []
  },
  {
   "cell_type": "code",
   "execution_count": null,
   "metadata": {},
   "outputs": [],
   "source": []
  },
  {
   "cell_type": "code",
   "execution_count": null,
   "metadata": {},
   "outputs": [],
   "source": []
  },
  {
   "cell_type": "markdown",
   "metadata": {},
   "source": [
    "**2. Razonamiento evidencial**\n",
    "\n",
    "Se refiere a cuando tenemos evidencia de los efectos y que remos razonar acerca de las causas"
   ]
  },
  {
   "cell_type": "code",
   "execution_count": null,
   "metadata": {},
   "outputs": [],
   "source": [
    "Image(filename='figures/Student3.png')"
   ]
  },
  {
   "cell_type": "markdown",
   "metadata": {},
   "source": [
    "Por ejemplo, la probabilidad de que el curso sea difícil es:\n",
    "\n",
    "$$P(d^1) = 0.4.$$\n",
    "\n",
    "Condicionando sobre la calificación:\n",
    "\n",
    "$$P(d^1 | c^0) = \\frac{P(d^1, c^0)}{P(c^0)} = \\frac{\\sum_{I,P,R} P(d^1, I, c^0, P, R)}{\\sum_{D,I,P,R} P(D, I, c^0, P, R)} \\approx 0.63.$$"
   ]
  },
  {
   "cell_type": "markdown",
   "metadata": {},
   "source": [
    "Similarmente, la probabilidad de que el estudiante sea inteligente es:\n",
    "\n",
    "$$P(i^1) = 0.3.$$\n",
    "\n",
    "Condicionando sobre la calificación:\n",
    "\n",
    "$$P(i^1 | c^0) = \\frac{P(i^1, c^0)}{P(c^0)} = \\frac{\\sum_{D,P,R} P(D, i^1, c^0, P, R)}{\\sum_{D,I,P,R} P(D, I, c^0, P, R)} \\approx 0.08.$$"
   ]
  },
  {
   "cell_type": "code",
   "execution_count": null,
   "metadata": {},
   "outputs": [],
   "source": [
    "# Verificar con pgmpy\n"
   ]
  },
  {
   "cell_type": "code",
   "execution_count": null,
   "metadata": {},
   "outputs": [],
   "source": []
  },
  {
   "cell_type": "code",
   "execution_count": null,
   "metadata": {},
   "outputs": [],
   "source": []
  },
  {
   "cell_type": "code",
   "execution_count": null,
   "metadata": {},
   "outputs": [],
   "source": []
  },
  {
   "cell_type": "code",
   "execution_count": null,
   "metadata": {},
   "outputs": [],
   "source": []
  },
  {
   "cell_type": "markdown",
   "metadata": {},
   "source": [
    "**3. Razonamiento intercausal**\n",
    "\n",
    "Se refiere a cuando hay flujo de información entre dos causas de un mismo efecto (por ejemplo, Dificultad e Inteligencia son causas de la Calificación).\n",
    "\n",
    "¿Cómo es posible esto si dijimos que $(D\\perp I)$? Veremos que en este caso cuando tenemos información de la causa, se produce este efecto."
   ]
  },
  {
   "cell_type": "markdown",
   "metadata": {},
   "source": [
    "De nuevo, la probabilidad de que el estudiante sea inteligente es:\n",
    "\n",
    "$$P(i^1) = 0.3.$$\n",
    "\n",
    "Condicionando sobre la calificación:\n",
    "\n",
    "$$P(i^1 | c^0) = \\frac{P(i^1, c^0)}{P(c^0)} \\approx 0.08.$$\n",
    "\n",
    "Aún más, si condicionamos sobre la dificultad:\n",
    "\n",
    "$$P(i^1 | c^0, d^1) = \\frac{P(i^1, c^0, d^1)}{P(c^0, d^1)} \\approx 0.11.$$"
   ]
  },
  {
   "cell_type": "markdown",
   "metadata": {},
   "source": [
    "Este tipo de razonamiento es un poco complejo de comprender, pues no tenemos relación directa (un arco en la red) entre $I$, y $D$. "
   ]
  },
  {
   "cell_type": "code",
   "execution_count": null,
   "metadata": {},
   "outputs": [],
   "source": [
    "# Verificar con pgmpy\n"
   ]
  },
  {
   "cell_type": "code",
   "execution_count": null,
   "metadata": {},
   "outputs": [],
   "source": []
  },
  {
   "cell_type": "code",
   "execution_count": null,
   "metadata": {},
   "outputs": [],
   "source": []
  },
  {
   "cell_type": "code",
   "execution_count": null,
   "metadata": {},
   "outputs": [],
   "source": []
  },
  {
   "cell_type": "code",
   "execution_count": null,
   "metadata": {},
   "outputs": [],
   "source": []
  },
  {
   "cell_type": "markdown",
   "metadata": {},
   "source": [
    "### Ejemplo \n",
    "\n",
    "Un caso que ya estamos listos para enfrentar es el ejemplo de una alarma antirobo.\n",
    "\n",
    "En este caso, suponemos que instalamos una alarma antirrobo en nuestras casas la cual se activa mediante un sensor de movimiento. Si un ladrón entra a nuestra casa, el sensor detectará el movimiento y la alarma nos enviará una notificación.\n",
    "\n",
    "Sin embargo, si hay un terremoto, la alarma puede mandarnos una notificación falsa. Adicionalmente, dependiendo de la magnitud del terremoto, habrán reportes de él (aunque la mayoría de terremotos quedan registrados en los institutos sísmicos de cada país, no todos merecen un reporte inmediato, especialmente si son de bajas magnitudes).\n",
    "\n",
    "De modo que un modelo gráfico considerando las variables $L$ (ladrón), $A$ (alarma), $T$ (terremoto) y $R$ (reporte en la radio) es:\n",
    "\n",
    "![bn2](figures/BN2.png)"
   ]
  },
  {
   "cell_type": "markdown",
   "metadata": {},
   "source": [
    "¿Cómo sería la distribución conjunta sobre las variables $L, A, T$ y $R$?\n",
    "\n",
    "$$\n",
    "P(L,A,T,R) = ?\n",
    "$$"
   ]
  },
  {
   "cell_type": "markdown",
   "metadata": {},
   "source": [
    "Tenemos entonces la siguiente información:\n",
    "\n",
    "- $P(L=1) = 0.001$ (una casa de cada mil es robada)\n",
    "- $P(T=1) = 0.01$ (un terremoto cada 100 días)\n",
    "\n",
    "Las probabilidades de que la alarma se active (dadas por el proveedor de alarmas) son:\n",
    "\n",
    "| $L$ | $T$ | $P(A=1 | L, T)$ |\n",
    "| --- | --- | --------------- |\n",
    "| $0$ | $0$ | $0$             |\n",
    "| $0$ | $1$ | $0.1$           |\n",
    "| $1$ | $0$ | $1$             |\n",
    "| $1$ | $1$ | $1$             |\n",
    "\n",
    "Las probabilidades de que un terremoto se reporte en la radio es:\n",
    "\n",
    "| $T$ | $P(R=1 | T)$    |\n",
    "| --- | --------------- |\n",
    "| $0$ | $0$             |\n",
    "| $1$ | $0.5$           |"
   ]
  },
  {
   "cell_type": "markdown",
   "metadata": {},
   "source": [
    "Supongamos que nos llega entonces una notificación de la alarma a nuestro celular. Queremos saber si en efecto la alarma se debe a un ladrón, o no. Esto es, queremos averiguar\n",
    "\n",
    "$$\n",
    "P(L=1|A=1)=?\n",
    "$$\n",
    "\n",
    "<font color=green> Resolver en el pizarrón </font>"
   ]
  },
  {
   "cell_type": "markdown",
   "metadata": {},
   "source": [
    "De modo que te subes al coche y te diriges camino a tu casa, pero al encender la radio escuchas que hubo un terremoto. Ahora, lo que queremos averiguar es:\n",
    "\n",
    "$$\n",
    "P(L=1|A=1, R=1)=?\n",
    "$$\n",
    "\n",
    "<font color=green> Resolver en el pizarrón </font>"
   ]
  },
  {
   "cell_type": "code",
   "execution_count": null,
   "metadata": {},
   "outputs": [],
   "source": [
    "# Verificar con pgmpy\n"
   ]
  },
  {
   "cell_type": "code",
   "execution_count": null,
   "metadata": {},
   "outputs": [],
   "source": []
  },
  {
   "cell_type": "code",
   "execution_count": null,
   "metadata": {},
   "outputs": [],
   "source": []
  },
  {
   "cell_type": "code",
   "execution_count": null,
   "metadata": {},
   "outputs": [],
   "source": []
  },
  {
   "cell_type": "code",
   "execution_count": null,
   "metadata": {},
   "outputs": [],
   "source": []
  },
  {
   "cell_type": "markdown",
   "metadata": {},
   "source": [
    "# Anuncios parroquiales\n",
    "\n",
    "### 1. Quiz.\n",
    "### 2. Leer **Box 3.C — Skill: Knowledge Engineering** pp. 64-67 del libro \"Probabilistic Graphical Models: Principles and Techniques\", D. Koller y N. Friedman."
   ]
  },
  {
   "cell_type": "markdown",
   "metadata": {},
   "source": [
    "<script>\n",
    "  $(document).ready(function(){\n",
    "    $('div.prompt').hide();\n",
    "    $('div.back-to-top').hide();\n",
    "    $('nav#menubar').hide();\n",
    "    $('.breadcrumb').hide();\n",
    "    $('.hidden-print').hide();\n",
    "  });\n",
    "</script>\n",
    "\n",
    "<footer id=\"attribution\" style=\"float:right; color:#808080; background:#fff;\">\n",
    "Created with Jupyter by Esteban Jiménez Rodríguez.\n",
    "</footer>"
   ]
  }
 ],
 "metadata": {
  "kernelspec": {
   "display_name": "Python 3",
   "language": "python",
   "name": "python3"
  },
  "language_info": {
   "codemirror_mode": {
    "name": "ipython",
    "version": 3
   },
   "file_extension": ".py",
   "mimetype": "text/x-python",
   "name": "python",
   "nbconvert_exporter": "python",
   "pygments_lexer": "ipython3",
   "version": "3.7.6"
  }
 },
 "nbformat": 4,
 "nbformat_minor": 4
}
